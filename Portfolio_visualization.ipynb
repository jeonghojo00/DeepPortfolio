{
  "nbformat": 4,
  "nbformat_minor": 0,
  "metadata": {
    "colab": {
      "name": "Portfolio_visualization",
      "provenance": [],
      "collapsed_sections": [],
      "authorship_tag": "ABX9TyOP2Y6mMpaRK19AGarPFmve",
      "include_colab_link": true
    },
    "kernelspec": {
      "name": "python3",
      "display_name": "Python 3"
    },
    "language_info": {
      "name": "python"
    }
  },
  "cells": [
    {
      "cell_type": "markdown",
      "metadata": {
        "id": "view-in-github",
        "colab_type": "text"
      },
      "source": [
        "<a href=\"https://colab.research.google.com/github/jeonghojo00/DeepPortfolio/blob/main/Portfolio_visualization.ipynb\" target=\"_parent\"><img src=\"https://colab.research.google.com/assets/colab-badge.svg\" alt=\"Open In Colab\"/></a>"
      ]
    },
    {
      "cell_type": "markdown",
      "metadata": {
        "id": "a6t-8cXFrfDh"
      },
      "source": [
        "# Prepare Data"
      ]
    },
    {
      "cell_type": "code",
      "metadata": {
        "id": "bBtS_BstBZ2C"
      },
      "source": [
        "pip install yfinance"
      ],
      "execution_count": null,
      "outputs": []
    },
    {
      "cell_type": "code",
      "metadata": {
        "id": "_OgpPa-Erk0D"
      },
      "source": [
        "import pandas as pd\n",
        "import numpy as np\n",
        "import yfinance as yf\n",
        "import bs4 as bs\n",
        "import requests\n",
        "import datetime"
      ],
      "execution_count": 2,
      "outputs": []
    },
    {
      "cell_type": "code",
      "metadata": {
        "colab": {
          "base_uri": "https://localhost:8080/"
        },
        "id": "f6yXSX5J6B0L",
        "outputId": "26df409a-709a-4bf3-9f1c-bcff85dec949"
      },
      "source": [
        "# Mount google drive\n",
        "from google.colab import drive\n",
        "drive.mount('/content/drive')"
      ],
      "execution_count": 24,
      "outputs": [
        {
          "output_type": "stream",
          "text": [
            "Drive already mounted at /content/drive; to attempt to forcibly remount, call drive.mount(\"/content/drive\", force_remount=True).\n"
          ],
          "name": "stdout"
        }
      ]
    },
    {
      "cell_type": "code",
      "metadata": {
        "id": "JtVPLv176Gv9"
      },
      "source": [
        "# Change current directory\n",
        "import os\n",
        "os.chdir('/content/drive/My Drive/Colab Notebooks/DeepPortfolio')"
      ],
      "execution_count": 25,
      "outputs": []
    },
    {
      "cell_type": "markdown",
      "metadata": {
        "id": "rkptzQaSYpSg"
      },
      "source": [
        "### Download stock historical data of sp500 and others"
      ]
    },
    {
      "cell_type": "code",
      "metadata": {
        "id": "cZ5m-Wt3rnHk"
      },
      "source": [
        "##<script src=\"https://gist.github.com/paduel/32ac6f0a47f3fae67e414a73b9779e89.js\"></script>\n",
        "sp_assets = pd.read_html('https://en.wikipedia.org/wiki/List_of_S%26P_500_companies')[0]\n",
        "sp500 = sp_assets.Symbol.tolist()"
      ],
      "execution_count": 5,
      "outputs": []
    },
    {
      "cell_type": "code",
      "metadata": {
        "colab": {
          "base_uri": "https://localhost:8080/"
        },
        "id": "FPGs7Kjy9Cmw",
        "outputId": "01d0776e-4af0-4ddd-a2a5-a8b5da32c907"
      },
      "source": [
        "# Modify tickers\n",
        "sp500 = ['BRK-B' if ticker=='BRK.B' else ticker for ticker in sp500]\n",
        "sp500 = ['BF-B' if ticker=='BF.B' else ticker for ticker in sp500]\n",
        "etfs = [\"SPY\", \"DIA\", \"QQQ\", \"TAN\", \"VWO\", \"NOBL\", \"ARKK\"]\n",
        "not_sp500 = ['TDOC', 'VMW', 'MAIN', 'TWLO', 'BABA', 'LULU', 'ZS', 'ABR', 'SDGR', 'PLTR', 'ABB']\n",
        "ticker_list = sp500+etfs+not_sp500\n",
        "ticker_list = list(set(ticker_list))\n",
        "print(\"Total {} tickers: {} SP500 companies, {} not-SP500 companies, and {} ETFs\".format(len(ticker_list), len(sp500), len(not_sp500), len(etfs)))"
      ],
      "execution_count": 6,
      "outputs": [
        {
          "output_type": "stream",
          "text": [
            "Total 523 tickers: 505 SP500 companies, 11 not-SP500 companies, and 7 ETFs\n"
          ],
          "name": "stdout"
        }
      ]
    },
    {
      "cell_type": "code",
      "metadata": {
        "colab": {
          "base_uri": "https://localhost:8080/"
        },
        "id": "ocAYPCpjsI_s",
        "outputId": "2bb8ab64-dc4a-489d-bb82-05b818f9d917"
      },
      "source": [
        "start = '2011-01-01'\n",
        "end = None\n",
        "data = yf.download(ticker_list, start=start, end=end, as_panel=False)\n"
      ],
      "execution_count": null,
      "outputs": [
        {
          "output_type": "stream",
          "text": [
            "[*********************100%***********************]  523 of 523 completed\n"
          ],
          "name": "stdout"
        }
      ]
    },
    {
      "cell_type": "markdown",
      "metadata": {
        "id": "MqoE7fR5Yksr"
      },
      "source": [
        "### Save data file as pickle"
      ]
    },
    {
      "cell_type": "code",
      "metadata": {
        "colab": {
          "base_uri": "https://localhost:8080/"
        },
        "id": "cVioxhjPsJT8",
        "outputId": "473cdc92-2440-4f1f-b3d7-5236abad7743"
      },
      "source": [
        "filename = 'data/sp500_components_data.pkl'\n",
        "data.to_pickle(filename)\n",
        "print('Data saved at {}'.format(filename))"
      ],
      "execution_count": null,
      "outputs": [
        {
          "output_type": "stream",
          "text": [
            "Data saved at data/sp500_components_data.pkl\n"
          ],
          "name": "stdout"
        }
      ]
    },
    {
      "cell_type": "markdown",
      "metadata": {
        "id": "S0RzmKl1ZE0A"
      },
      "source": [
        "### Read Pickle file of Stock Data"
      ]
    },
    {
      "cell_type": "code",
      "metadata": {
        "id": "xAjzmaIRuUDU"
      },
      "source": [
        "import pandas as pd\n",
        "filename = 'data/sp500_components_data.pkl'\n",
        "prices = pd.read_pickle(filename)"
      ],
      "execution_count": 7,
      "outputs": []
    },
    {
      "cell_type": "code",
      "metadata": {
        "id": "D5DQDpgOZBJd",
        "colab": {
          "base_uri": "https://localhost:8080/"
        },
        "outputId": "a7b12e6d-9137-417d-a74d-ee489b189dbd"
      },
      "source": [
        "prices[\"Adj Close\"][\"SPY\"]"
      ],
      "execution_count": 8,
      "outputs": [
        {
          "output_type": "execute_result",
          "data": {
            "text/plain": [
              "Date\n",
              "2010-12-31           NaN\n",
              "2011-01-03    103.779396\n",
              "2011-01-04    103.722198\n",
              "2011-01-05    104.261322\n",
              "2011-01-06    104.057114\n",
              "                 ...    \n",
              "2021-05-24    419.170013\n",
              "2021-05-25    418.239990\n",
              "2021-05-26    419.070007\n",
              "2021-05-27    419.290009\n",
              "2021-05-28    420.040009\n",
              "Name: SPY, Length: 2623, dtype: float64"
            ]
          },
          "metadata": {
            "tags": []
          },
          "execution_count": 8
        }
      ]
    },
    {
      "cell_type": "markdown",
      "metadata": {
        "id": "M3vcDojN6Q55"
      },
      "source": [
        "### Read Stock Order file"
      ]
    },
    {
      "cell_type": "code",
      "metadata": {
        "id": "3A1PtllmCO3d"
      },
      "source": [
        "orders_file=\"data/stock_orders.csv\"\n",
        "orders_df = pd.read_csv(orders_file, index_col='Date', parse_dates=True, na_values=['nan'])  "
      ],
      "execution_count": 26,
      "outputs": []
    },
    {
      "cell_type": "markdown",
      "metadata": {
        "id": "NwVgtpCo6lg0"
      },
      "source": [
        "# Process Stock orders processes"
      ]
    },
    {
      "cell_type": "markdown",
      "metadata": {
        "id": "Uek7aBpw6W9y"
      },
      "source": [
        ""
      ]
    },
    {
      "cell_type": "code",
      "metadata": {
        "id": "dmqN034eDTm-"
      },
      "source": [
        "commission=0\n",
        "impact=0.005\n",
        "\n",
        "orders_df = orders_df.replace({'Order': {'BUY': 1, 'SELL': -1}})\n",
        "orders_df[\"Change\"] = orders_df[\"Order\"] * orders_df[\"Shares\"]\n",
        "orders_df[\"Traded\"] = 1\n",
        "orders_df[\"Commission\"] = commission\n",
        "start_date = orders_df.index.min()\n",
        "end_date = orders_df.index.max()\n",
        "listPort = orders_df.Symbol.unique()\t"
      ],
      "execution_count": 27,
      "outputs": []
    },
    {
      "cell_type": "code",
      "metadata": {
        "id": "SUcdfOCPES-a"
      },
      "source": [
        "dates = pd.date_range(start_date, end_date)\n",
        "stock_prices = prices[\"Adj Close\"][listPort].loc[start_date:]"
      ],
      "execution_count": 28,
      "outputs": []
    },
    {
      "cell_type": "code",
      "metadata": {
        "id": "QpRyt-HRdpPc"
      },
      "source": [
        "stock_prices = stock_prices.fillna(method='ffill')\n",
        "stock_prices = stock_prices.fillna(method='bfill')\n",
        "stock_prices[\"Cash\"] = 1"
      ],
      "execution_count": 29,
      "outputs": []
    },
    {
      "cell_type": "code",
      "metadata": {
        "id": "AIC-Pr2zEKmi"
      },
      "source": [
        "# Make Orders dataframe\n",
        "orderStocks = pd.DataFrame(data=0, index=stock_prices.index, columns=stock_prices.columns)\n",
        "orderStocks[\"Cash\"] = 0\n",
        "for symbol in listPort:\n",
        "    orders = orders_df[orders_df.Symbol == symbol]\n",
        "    orders = orders.sort_index()\n",
        "    orders = orders.rename({\"Change\": symbol}, axis='columns')\n",
        "    orders = orders.drop(['Symbol', 'Order', 'Shares'], axis=1)\n",
        "    \n",
        "    dates = orders.index.date\n",
        "    orders[\"Traded\"] = -orders[symbol] * stock_prices.loc[dates, symbol]\n",
        "    orders[\"Impact\"] = abs(orders[\"Traded\"]) * impact\n",
        "\n",
        "    orders = orders.groupby(by=\"Date\").sum()\n",
        "    orderStocks.loc[dates, symbol] = orders[symbol]\n",
        "    orderStocks.loc[dates, \"Cash\"] += orders[\"Traded\"] - orders[\"Commission\"] - orders[\"Impact\"]\n",
        "\n"
      ],
      "execution_count": 37,
      "outputs": []
    },
    {
      "cell_type": "code",
      "metadata": {
        "id": "55923j21Dd6M"
      },
      "source": [
        "import copy \n",
        "\n",
        "start_val=0\n",
        "\n",
        "# Make Holding dataframe\n",
        "holdingStocks = copy.deepcopy(orderStocks)\n",
        "holdingStocks = holdingStocks.cumsum()\n",
        "holdingStocks[\"Cash\"] = holdingStocks[\"Cash\"] + start_val\n",
        "\n"
      ],
      "execution_count": 40,
      "outputs": []
    },
    {
      "cell_type": "code",
      "metadata": {
        "colab": {
          "base_uri": "https://localhost:8080/"
        },
        "id": "-9zYNJk50lSN",
        "outputId": "69c810cf-b664-4227-925c-38862a75cf97"
      },
      "source": [
        "# Make Values dataframe and Portfolio value dataframe\n",
        "valuesStocks = stock_prices * holdingStocks\n",
        "portVals = valuesStocks.sum(axis=1)\n",
        "totVals = valuesStocks.iloc[:,:-1].sum(axis=1)\n",
        "print('print valueStocks')\n",
        "print(valuesStocks)\n",
        "print('Current Profit')\n",
        "print(portVals[-1])\n",
        "print('Total Stock Asset')\n",
        "print(totVals[-1])"
      ],
      "execution_count": 62,
      "outputs": [
        {
          "output_type": "stream",
          "text": [
            "print valueStocks\n",
            "                    MSFT        BRK-B  ...          TAN           Cash\n",
            "Date                                   ...                            \n",
            "2018-08-13   3646.224174     0.000000  ...     0.000000   -3664.455295\n",
            "2018-08-14   3691.713600     0.000000  ...     0.000000   -3664.455295\n",
            "2018-08-15   3641.651840     0.000000  ...     0.000000   -3664.455295\n",
            "2018-08-16   3640.975723     0.000000  ...     0.000000   -3664.455295\n",
            "2018-08-17   3638.946838     0.000000  ...     0.000000   -3664.455295\n",
            "...                  ...          ...  ...          ...            ...\n",
            "2021-05-24  23573.319885  1448.650055  ...  1556.000061 -372485.592410\n",
            "2021-05-25  23661.680115  1436.000061  ...  1548.999939 -372485.592410\n",
            "2021-05-26  23640.060516  1436.649933  ...  1586.199951 -372485.592410\n",
            "2021-05-27  23435.139771  1446.499939  ...  1586.399994 -372485.592410\n",
            "2021-05-28  23469.919312  1447.200012  ...  1582.200012 -372485.592410\n",
            "\n",
            "[705 rows x 34 columns]\n",
            "Current Profit\n",
            "219726.321044233\n",
            "Total Stock Asset\n",
            "592211.9134540558\n"
          ],
          "name": "stdout"
        }
      ]
    },
    {
      "cell_type": "markdown",
      "metadata": {
        "id": "xmKhWPD963v9"
      },
      "source": [
        "# Plot the Portfolio values and profits"
      ]
    },
    {
      "cell_type": "code",
      "metadata": {
        "colab": {
          "base_uri": "https://localhost:8080/",
          "height": 337
        },
        "id": "D9dhI7xyCrpq",
        "outputId": "e0c2156e-3fac-4d5e-f0f3-0430dff3a52c"
      },
      "source": [
        "import matplotlib.pyplot as plt\n",
        "\n",
        "plt.figure(figsize=(12,5))\n",
        "plt.plot(totVals, label=\"Total Stock Asset\")\n",
        "plt.plot(portVals, label=\"Profit\")\n",
        "plt.legend(loc='best')"
      ],
      "execution_count": 64,
      "outputs": [
        {
          "output_type": "execute_result",
          "data": {
            "text/plain": [
              "<matplotlib.legend.Legend at 0x7f3541f52950>"
            ]
          },
          "metadata": {
            "tags": []
          },
          "execution_count": 64
        },
        {
          "output_type": "display_data",
          "data": {
            "image/png": "[encoded data removed]",
            "text/plain": [
              "<Figure size 864x360 with 1 Axes>"
            ]
          },
          "metadata": {
            "tags": [],
            "needs_background": "light"
          }
        }
      ]
    },
    {
      "cell_type": "code",
      "metadata": {
        "id": "8YgvYSKG56yU"
      },
      "source": [
        "currentHoldings = valuesStocks.iloc[-1, :-1]\n",
        "currentHoldings = currentHoldings[currentHoldings.values>0.0]\n",
        "currentHoldings = currentHoldings.sort_values(ascending=False)"
      ],
      "execution_count": 82,
      "outputs": []
    },
    {
      "cell_type": "code",
      "metadata": {
        "id": "_yY04wbGAJzr"
      },
      "source": [
        "stockTickers = list(currentHoldings.keys())\n",
        "stockValues = list(currentHoldings.values)"
      ],
      "execution_count": 110,
      "outputs": []
    },
    {
      "cell_type": "code",
      "metadata": {
        "colab": {
          "base_uri": "https://localhost:8080/",
          "height": 637
        },
        "id": "WCGlRX291IoX",
        "outputId": "2115b0b1-3fb5-4e57-9c69-fee091f78a41"
      },
      "source": [
        "plt.figure(figsize=(10,4))\n",
        "plt.pie(stockValues, labels=stockTickers)\n",
        "plt.tight_layout()\n",
        "plt.show()\n",
        "print(currentHoldings)"
      ],
      "execution_count": 111,
      "outputs": [
        {
          "output_type": "display_data",
          "data": {
            "image/png": "[encoded data removed]",
            "text/plain": [
              "<Figure size 720x288 with 1 Axes>"
            ]
          },
          "metadata": {
            "tags": []
          }
        },
        {
          "output_type": "stream",
          "text": [
            "TSLA     92532.555664\n",
            "AMZN     83799.821777\n",
            "GOOGL    68348.652832\n",
            "AAPL     67289.400330\n",
            "ZS       62143.999023\n",
            "PLTR     50490.001678\n",
            "NVDA     50033.062256\n",
            "LULU     35544.300537\n",
            "NFLX     35196.699829\n",
            "MSFT     23469.919312\n",
            "BABA      6418.800201\n",
            "TDOC      5270.300064\n",
            "ARKK      3923.499947\n",
            "SBUX      2391.479942\n",
            "SPY       1680.160034\n",
            "TAN       1582.200012\n",
            "BRK-B     1447.200012\n",
            "SDGR       631.620003\n",
            "ABR         18.240000\n",
            "Name: 2021-05-28 00:00:00, dtype: float64\n"
          ],
          "name": "stdout"
        }
      ]
    },
    {
      "cell_type": "code",
      "metadata": {
        "id": "u6zNobPA_fGM"
      },
      "source": [
        ""
      ],
      "execution_count": null,
      "outputs": []
    }
  ]
}