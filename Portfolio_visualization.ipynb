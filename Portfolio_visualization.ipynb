{
  "nbformat": 4,
  "nbformat_minor": 0,
  "metadata": {
    "colab": {
      "name": "Portfolio_visualization",
      "provenance": [],
      "collapsed_sections": [],
      "authorship_tag": "ABX9TyN9yPVtlFQi0EShZfNwZciF",
      "include_colab_link": true
    },
    "kernelspec": {
      "name": "python3",
      "display_name": "Python 3"
    },
    "language_info": {
      "name": "python"
    }
  },
  "cells": [
    {
      "cell_type": "markdown",
      "metadata": {
        "id": "view-in-github",
        "colab_type": "text"
      },
      "source": [
        "<a href=\"https://colab.research.google.com/github/jeonghojo00/DeepPortfolio/blob/main/Portfolio_visualization.ipynb\" target=\"_parent\"><img src=\"https://colab.research.google.com/assets/colab-badge.svg\" alt=\"Open In Colab\"/></a>"
      ]
    },
    {
      "cell_type": "markdown",
      "metadata": {
        "id": "a6t-8cXFrfDh"
      },
      "source": [
        "# Import Dataset (S&P500)"
      ]
    },
    {
      "cell_type": "code",
      "metadata": {
        "id": "bBtS_BstBZ2C",
        "colab": {
          "base_uri": "https://localhost:8080/"
        },
        "outputId": "09e9a790-ff72-4c79-9400-e6c708435910"
      },
      "source": [
        "pip install yfinance"
      ],
      "execution_count": 1,
      "outputs": [
        {
          "output_type": "stream",
          "text": [
            "Collecting yfinance\n",
            "  Downloading https://files.pythonhosted.org/packages/a7/ee/315752b9ef281ba83c62aa7ec2e2074f85223da6e7e74efb4d3e11c0f510/yfinance-0.1.59.tar.gz\n",
            "Requirement already satisfied: pandas>=0.24 in /usr/local/lib/python3.7/dist-packages (from yfinance) (1.1.5)\n",
            "Requirement already satisfied: numpy>=1.15 in /usr/local/lib/python3.7/dist-packages (from yfinance) (1.19.5)\n",
            "Requirement already satisfied: requests>=2.20 in /usr/local/lib/python3.7/dist-packages (from yfinance) (2.23.0)\n",
            "Requirement already satisfied: multitasking>=0.0.7 in /usr/local/lib/python3.7/dist-packages (from yfinance) (0.0.9)\n",
            "Collecting lxml>=4.5.1\n",
            "\u001b[?25l  Downloading https://files.pythonhosted.org/packages/30/c0/d0526314971fc661b083ab135747dc68446a3022686da8c16d25fcf6ef07/lxml-4.6.3-cp37-cp37m-manylinux2014_x86_64.whl (6.3MB)\n",
            "\u001b[K     |████████████████████████████████| 6.3MB 19.3MB/s \n",
            "\u001b[?25hRequirement already satisfied: python-dateutil>=2.7.3 in /usr/local/lib/python3.7/dist-packages (from pandas>=0.24->yfinance) (2.8.1)\n",
            "Requirement already satisfied: pytz>=2017.2 in /usr/local/lib/python3.7/dist-packages (from pandas>=0.24->yfinance) (2018.9)\n",
            "Requirement already satisfied: chardet<4,>=3.0.2 in /usr/local/lib/python3.7/dist-packages (from requests>=2.20->yfinance) (3.0.4)\n",
            "Requirement already satisfied: idna<3,>=2.5 in /usr/local/lib/python3.7/dist-packages (from requests>=2.20->yfinance) (2.10)\n",
            "Requirement already satisfied: urllib3!=1.25.0,!=1.25.1,<1.26,>=1.21.1 in /usr/local/lib/python3.7/dist-packages (from requests>=2.20->yfinance) (1.24.3)\n",
            "Requirement already satisfied: certifi>=2017.4.17 in /usr/local/lib/python3.7/dist-packages (from requests>=2.20->yfinance) (2020.12.5)\n",
            "Requirement already satisfied: six>=1.5 in /usr/local/lib/python3.7/dist-packages (from python-dateutil>=2.7.3->pandas>=0.24->yfinance) (1.15.0)\n",
            "Building wheels for collected packages: yfinance\n",
            "  Building wheel for yfinance (setup.py) ... \u001b[?25l\u001b[?25hdone\n",
            "  Created wheel for yfinance: filename=yfinance-0.1.59-py2.py3-none-any.whl size=23442 sha256=8901b7b8c6fe3eb77f6b71de96fc84c95da5fcaaffdd92d5b9bae6b538643c6a\n",
            "  Stored in directory: /root/.cache/pip/wheels/f8/2a/0f/4b5a86e1d52e451757eb6bc17fd899629f0925c777741b6d04\n",
            "Successfully built yfinance\n",
            "Installing collected packages: lxml, yfinance\n",
            "  Found existing installation: lxml 4.2.6\n",
            "    Uninstalling lxml-4.2.6:\n",
            "      Successfully uninstalled lxml-4.2.6\n",
            "Successfully installed lxml-4.6.3 yfinance-0.1.59\n"
          ],
          "name": "stdout"
        }
      ]
    },
    {
      "cell_type": "code",
      "metadata": {
        "id": "_OgpPa-Erk0D"
      },
      "source": [
        "import pandas as pd\n",
        "import numpy as np\n",
        "import yfinance as yf\n",
        "import bs4 as bs\n",
        "import requests\n",
        "import datetime"
      ],
      "execution_count": 2,
      "outputs": []
    },
    {
      "cell_type": "code",
      "metadata": {
        "colab": {
          "base_uri": "https://localhost:8080/"
        },
        "id": "f6yXSX5J6B0L",
        "outputId": "14b0d33c-f130-4a30-c19f-c328195b2a66"
      },
      "source": [
        "# Mount google drive\n",
        "from google.colab import drive\n",
        "drive.mount('/content/drive')"
      ],
      "execution_count": 3,
      "outputs": [
        {
          "output_type": "stream",
          "text": [
            "Mounted at /content/drive\n"
          ],
          "name": "stdout"
        }
      ]
    },
    {
      "cell_type": "code",
      "metadata": {
        "id": "JtVPLv176Gv9"
      },
      "source": [
        "# Change current directory\n",
        "import os\n",
        "os.chdir('/content/drive/My Drive/Colab Notebooks/DeepPortfolio')"
      ],
      "execution_count": 4,
      "outputs": []
    },
    {
      "cell_type": "markdown",
      "metadata": {
        "id": "rkptzQaSYpSg"
      },
      "source": [
        "### Load Dataset"
      ]
    },
    {
      "cell_type": "code",
      "metadata": {
        "id": "cZ5m-Wt3rnHk"
      },
      "source": [
        "##<script src=\"https://gist.github.com/paduel/32ac6f0a47f3fae67e414a73b9779e89.js\"></script>\n",
        "sp_assets = pd.read_html('https://en.wikipedia.org/wiki/List_of_S%26P_500_companies')[0]\n",
        "sp500 = sp_assets.Symbol.tolist()"
      ],
      "execution_count": 5,
      "outputs": []
    },
    {
      "cell_type": "code",
      "metadata": {
        "colab": {
          "base_uri": "https://localhost:8080/"
        },
        "id": "FPGs7Kjy9Cmw",
        "outputId": "2ebd55c0-926f-4104-9165-8e4b6427d4d9"
      },
      "source": [
        "# Modify tickers\n",
        "sp500 = ['BRK-B' if ticker=='BRK.B' else ticker for ticker in sp500]\n",
        "sp500 = ['BF-B' if ticker=='BF.B' else ticker for ticker in sp500]\n",
        "etfs = [\"SPY\", \"DIA\", \"QQQ\", \"TAN\", \"VWO\", \"NOBL\", \"ARKK\"]\n",
        "not_sp500 = ['TDOC', 'VMW', 'MAIN', 'TWLO', 'BABA', 'LULU', 'ZS', 'ABR', 'SDGR', 'PLTR', 'ABB']\n",
        "ticker_list = sp500+etfs+not_sp500\n",
        "ticker_list = list(set(ticker_list))\n",
        "print(\"Total {} tickers: {} SP500 companies, {} not-SP500 companies, and {} ETFs\".format(len(ticker_list), len(sp500), len(not_sp500), len(etfs)))"
      ],
      "execution_count": 31,
      "outputs": [
        {
          "output_type": "stream",
          "text": [
            "Total 523 tickers: 505 SP500 companies, 11 not-SP500 companies, and 7 ETFs\n"
          ],
          "name": "stdout"
        }
      ]
    },
    {
      "cell_type": "code",
      "metadata": {
        "colab": {
          "base_uri": "https://localhost:8080/"
        },
        "id": "ocAYPCpjsI_s",
        "outputId": "2bb8ab64-dc4a-489d-bb82-05b818f9d917"
      },
      "source": [
        "start = '2011-01-01'\n",
        "end = None\n",
        "data = yf.download(ticker_list, start=start, end=end, as_panel=False)\n"
      ],
      "execution_count": 32,
      "outputs": [
        {
          "output_type": "stream",
          "text": [
            "[*********************100%***********************]  523 of 523 completed\n"
          ],
          "name": "stdout"
        }
      ]
    },
    {
      "cell_type": "markdown",
      "metadata": {
        "id": "MqoE7fR5Yksr"
      },
      "source": [
        "### Save data file as pickle"
      ]
    },
    {
      "cell_type": "code",
      "metadata": {
        "colab": {
          "base_uri": "https://localhost:8080/"
        },
        "id": "cVioxhjPsJT8",
        "outputId": "473cdc92-2440-4f1f-b3d7-5236abad7743"
      },
      "source": [
        "filename = 'data/sp500_components_data.pkl'\n",
        "data.to_pickle(filename)\n",
        "print('Data saved at {}'.format(filename))"
      ],
      "execution_count": 33,
      "outputs": [
        {
          "output_type": "stream",
          "text": [
            "Data saved at data/sp500_components_data.pkl\n"
          ],
          "name": "stdout"
        }
      ]
    },
    {
      "cell_type": "markdown",
      "metadata": {
        "id": "S0RzmKl1ZE0A"
      },
      "source": [
        "### Preprocess"
      ]
    },
    {
      "cell_type": "code",
      "metadata": {
        "id": "xAjzmaIRuUDU"
      },
      "source": [
        "import pandas as pd\n",
        "filename = 'data/sp500_components_data.pkl'\n",
        "prices = pd.read_pickle(filename)"
      ],
      "execution_count": 34,
      "outputs": []
    },
    {
      "cell_type": "code",
      "metadata": {
        "id": "D5DQDpgOZBJd",
        "colab": {
          "base_uri": "https://localhost:8080/"
        },
        "outputId": "4b97bb29-9729-49bd-d756-5af386ef42d7"
      },
      "source": [
        "prices[\"Adj Close\"][\"SPY\"]"
      ],
      "execution_count": 35,
      "outputs": [
        {
          "output_type": "execute_result",
          "data": {
            "text/plain": [
              "Date\n",
              "2010-12-31           NaN\n",
              "2011-01-03    103.779396\n",
              "2011-01-04    103.722198\n",
              "2011-01-05    104.261322\n",
              "2011-01-06    104.057114\n",
              "                 ...    \n",
              "2021-05-24    419.170013\n",
              "2021-05-25    418.239990\n",
              "2021-05-26    419.070007\n",
              "2021-05-27    419.290009\n",
              "2021-05-28    420.040009\n",
              "Name: SPY, Length: 2623, dtype: float64"
            ]
          },
          "metadata": {
            "tags": []
          },
          "execution_count": 35
        }
      ]
    },
    {
      "cell_type": "code",
      "metadata": {
        "id": "3A1PtllmCO3d"
      },
      "source": [
        "orders_file=\"data/stock_orders.csv\"\n",
        "orders_df = pd.read_csv(orders_file, index_col='Date', parse_dates=True, na_values=['nan'])  "
      ],
      "execution_count": 36,
      "outputs": []
    },
    {
      "cell_type": "code",
      "metadata": {
        "id": "dmqN034eDTm-"
      },
      "source": [
        "commission=0\n",
        "impact=0.005\n",
        "\n",
        "orders_df = orders_df.replace({'Order': {'BUY': 1, 'SELL': -1}})\n",
        "orders_df[\"Change\"] = orders_df[\"Order\"] * orders_df[\"Shares\"]\n",
        "orders_df[\"Traded\"] = 1\n",
        "orders_df[\"Commission\"] = commission\n",
        "start_date = orders_df.index.min()\n",
        "end_date = orders_df.index.max()\n",
        "listPort = orders_df.Symbol.unique()\t"
      ],
      "execution_count": 37,
      "outputs": []
    },
    {
      "cell_type": "code",
      "metadata": {
        "id": "SUcdfOCPES-a"
      },
      "source": [
        "dates = pd.date_range(start_date, end_date)\n",
        "stock_prices = prices[\"Adj Close\"][listPort].loc[start_date:]"
      ],
      "execution_count": 38,
      "outputs": []
    },
    {
      "cell_type": "code",
      "metadata": {
        "id": "QpRyt-HRdpPc"
      },
      "source": [
        "stock_prices = stock_prices.fillna(method='ffill')\n",
        "stock_prices = stock_prices.fillna(method='bfill')\n",
        "stock_prices[\"Cash\"] = 1"
      ],
      "execution_count": 44,
      "outputs": []
    },
    {
      "cell_type": "code",
      "metadata": {
        "colab": {
          "base_uri": "https://localhost:8080/",
          "height": 392
        },
        "id": "AIC-Pr2zEKmi",
        "outputId": "24425536-2d68-42ee-a44d-fd20c2cc9132"
      },
      "source": [
        "# Make Orders dataframe\n",
        "orderStocks = pd.DataFrame(data=0, index=stock_prices.index, columns=stock_prices.columns)\n",
        "orderStocks[\"Cash\"] = 0\n",
        "for symbol in listPort:\n",
        "    orders = orders_df[orders_df.Symbol == symbol]\n",
        "    orders = orders.sort_index()\n",
        "    orders = orders.rename({\"Change\": symbol}, axis='columns')\n",
        "    orders = orders.drop(['Symbol', 'Order', 'Shares'], axis=1)\n",
        "\n",
        "    dates = orders.index.date\n",
        "    orders[\"Traded\"] = -orders[symbol] * stock_prices.loc[dates, symbol]\n",
        "    orders[\"Impact\"] = abs(orders[\"Traded\"]) * impact\n",
        "\n",
        "    orders = orders.groupby(by=\"Date\").sum()\n",
        "    orderStocks.loc[dates, symbol] = orders[symbol]\n",
        "    orderStocks.loc[dates, \"Cash\"] += orders[\"Traded\"] - orders[\"Commission\"] - orders[\"Impact\"]\n",
        "\n"
      ],
      "execution_count": 57,
      "outputs": [
        {
          "output_type": "error",
          "ename": "KeyError",
          "evalue": "ignored",
          "traceback": [
            "\u001b[0;31m---------------------------------------------------------------------------\u001b[0m",
            "\u001b[0;31mKeyError\u001b[0m                                  Traceback (most recent call last)",
            "\u001b[0;32m<ipython-input-57-023eb986912d>\u001b[0m in \u001b[0;36m<module>\u001b[0;34m()\u001b[0m\n\u001b[1;32m      9\u001b[0m \u001b[0;34m\u001b[0m\u001b[0m\n\u001b[1;32m     10\u001b[0m     \u001b[0mdates\u001b[0m \u001b[0;34m=\u001b[0m \u001b[0morders\u001b[0m\u001b[0;34m.\u001b[0m\u001b[0mindex\u001b[0m\u001b[0;34m.\u001b[0m\u001b[0mdate\u001b[0m\u001b[0;34m\u001b[0m\u001b[0;34m\u001b[0m\u001b[0m\n\u001b[0;32m---> 11\u001b[0;31m     \u001b[0morders\u001b[0m\u001b[0;34m[\u001b[0m\u001b[0;34m\"Traded\"\u001b[0m\u001b[0;34m]\u001b[0m \u001b[0;34m=\u001b[0m \u001b[0;34m-\u001b[0m\u001b[0morders\u001b[0m\u001b[0;34m[\u001b[0m\u001b[0msymbol\u001b[0m\u001b[0;34m]\u001b[0m \u001b[0;34m*\u001b[0m \u001b[0mstock_prices\u001b[0m\u001b[0;34m.\u001b[0m\u001b[0mloc\u001b[0m\u001b[0;34m[\u001b[0m\u001b[0mdates\u001b[0m\u001b[0;34m,\u001b[0m \u001b[0msymbol\u001b[0m\u001b[0;34m]\u001b[0m\u001b[0;34m\u001b[0m\u001b[0;34m\u001b[0m\u001b[0m\n\u001b[0m\u001b[1;32m     12\u001b[0m     \u001b[0morders\u001b[0m\u001b[0;34m[\u001b[0m\u001b[0;34m\"Impact\"\u001b[0m\u001b[0;34m]\u001b[0m \u001b[0;34m=\u001b[0m \u001b[0mabs\u001b[0m\u001b[0;34m(\u001b[0m\u001b[0morders\u001b[0m\u001b[0;34m[\u001b[0m\u001b[0;34m\"Traded\"\u001b[0m\u001b[0;34m]\u001b[0m\u001b[0;34m)\u001b[0m \u001b[0;34m*\u001b[0m \u001b[0mimpact\u001b[0m\u001b[0;34m\u001b[0m\u001b[0;34m\u001b[0m\u001b[0m\n\u001b[1;32m     13\u001b[0m \u001b[0;34m\u001b[0m\u001b[0m\n",
            "\u001b[0;32m/usr/local/lib/python3.7/dist-packages/pandas/core/indexing.py\u001b[0m in \u001b[0;36m__getitem__\u001b[0;34m(self, key)\u001b[0m\n\u001b[1;32m    871\u001b[0m                     \u001b[0;31m# AttributeError for IntervalTree get_value\u001b[0m\u001b[0;34m\u001b[0m\u001b[0;34m\u001b[0m\u001b[0;34m\u001b[0m\u001b[0m\n\u001b[1;32m    872\u001b[0m                     \u001b[0;32mpass\u001b[0m\u001b[0;34m\u001b[0m\u001b[0;34m\u001b[0m\u001b[0m\n\u001b[0;32m--> 873\u001b[0;31m             \u001b[0;32mreturn\u001b[0m \u001b[0mself\u001b[0m\u001b[0;34m.\u001b[0m\u001b[0m_getitem_tuple\u001b[0m\u001b[0;34m(\u001b[0m\u001b[0mkey\u001b[0m\u001b[0;34m)\u001b[0m\u001b[0;34m\u001b[0m\u001b[0;34m\u001b[0m\u001b[0m\n\u001b[0m\u001b[1;32m    874\u001b[0m         \u001b[0;32melse\u001b[0m\u001b[0;34m:\u001b[0m\u001b[0;34m\u001b[0m\u001b[0;34m\u001b[0m\u001b[0m\n\u001b[1;32m    875\u001b[0m             \u001b[0;31m# we by definition only have the 0th axis\u001b[0m\u001b[0;34m\u001b[0m\u001b[0;34m\u001b[0m\u001b[0;34m\u001b[0m\u001b[0m\n",
            "\u001b[0;32m/usr/local/lib/python3.7/dist-packages/pandas/core/indexing.py\u001b[0m in \u001b[0;36m_getitem_tuple\u001b[0;34m(self, tup)\u001b[0m\n\u001b[1;32m   1042\u001b[0m     \u001b[0;32mdef\u001b[0m \u001b[0m_getitem_tuple\u001b[0m\u001b[0;34m(\u001b[0m\u001b[0mself\u001b[0m\u001b[0;34m,\u001b[0m \u001b[0mtup\u001b[0m\u001b[0;34m:\u001b[0m \u001b[0mTuple\u001b[0m\u001b[0;34m)\u001b[0m\u001b[0;34m:\u001b[0m\u001b[0;34m\u001b[0m\u001b[0;34m\u001b[0m\u001b[0m\n\u001b[1;32m   1043\u001b[0m         \u001b[0;32mtry\u001b[0m\u001b[0;34m:\u001b[0m\u001b[0;34m\u001b[0m\u001b[0;34m\u001b[0m\u001b[0m\n\u001b[0;32m-> 1044\u001b[0;31m             \u001b[0;32mreturn\u001b[0m \u001b[0mself\u001b[0m\u001b[0;34m.\u001b[0m\u001b[0m_getitem_lowerdim\u001b[0m\u001b[0;34m(\u001b[0m\u001b[0mtup\u001b[0m\u001b[0;34m)\u001b[0m\u001b[0;34m\u001b[0m\u001b[0;34m\u001b[0m\u001b[0m\n\u001b[0m\u001b[1;32m   1045\u001b[0m         \u001b[0;32mexcept\u001b[0m \u001b[0mIndexingError\u001b[0m\u001b[0;34m:\u001b[0m\u001b[0;34m\u001b[0m\u001b[0;34m\u001b[0m\u001b[0m\n\u001b[1;32m   1046\u001b[0m             \u001b[0;32mpass\u001b[0m\u001b[0;34m\u001b[0m\u001b[0;34m\u001b[0m\u001b[0m\n",
            "\u001b[0;32m/usr/local/lib/python3.7/dist-packages/pandas/core/indexing.py\u001b[0m in \u001b[0;36m_getitem_lowerdim\u001b[0;34m(self, tup)\u001b[0m\n\u001b[1;32m    808\u001b[0m                     \u001b[0;32mreturn\u001b[0m \u001b[0msection\u001b[0m\u001b[0;34m\u001b[0m\u001b[0;34m\u001b[0m\u001b[0m\n\u001b[1;32m    809\u001b[0m                 \u001b[0;31m# This is an elided recursive call to iloc/loc\u001b[0m\u001b[0;34m\u001b[0m\u001b[0;34m\u001b[0m\u001b[0;34m\u001b[0m\u001b[0m\n\u001b[0;32m--> 810\u001b[0;31m                 \u001b[0;32mreturn\u001b[0m \u001b[0mgetattr\u001b[0m\u001b[0;34m(\u001b[0m\u001b[0msection\u001b[0m\u001b[0;34m,\u001b[0m \u001b[0mself\u001b[0m\u001b[0;34m.\u001b[0m\u001b[0mname\u001b[0m\u001b[0;34m)\u001b[0m\u001b[0;34m[\u001b[0m\u001b[0mnew_key\u001b[0m\u001b[0;34m]\u001b[0m\u001b[0;34m\u001b[0m\u001b[0;34m\u001b[0m\u001b[0m\n\u001b[0m\u001b[1;32m    811\u001b[0m \u001b[0;34m\u001b[0m\u001b[0m\n\u001b[1;32m    812\u001b[0m         \u001b[0;32mraise\u001b[0m \u001b[0mIndexingError\u001b[0m\u001b[0;34m(\u001b[0m\u001b[0;34m\"not applicable\"\u001b[0m\u001b[0;34m)\u001b[0m\u001b[0;34m\u001b[0m\u001b[0;34m\u001b[0m\u001b[0m\n",
            "\u001b[0;32m/usr/local/lib/python3.7/dist-packages/pandas/core/indexing.py\u001b[0m in \u001b[0;36m__getitem__\u001b[0;34m(self, key)\u001b[0m\n\u001b[1;32m    877\u001b[0m \u001b[0;34m\u001b[0m\u001b[0m\n\u001b[1;32m    878\u001b[0m             \u001b[0mmaybe_callable\u001b[0m \u001b[0;34m=\u001b[0m \u001b[0mcom\u001b[0m\u001b[0;34m.\u001b[0m\u001b[0mapply_if_callable\u001b[0m\u001b[0;34m(\u001b[0m\u001b[0mkey\u001b[0m\u001b[0;34m,\u001b[0m \u001b[0mself\u001b[0m\u001b[0;34m.\u001b[0m\u001b[0mobj\u001b[0m\u001b[0;34m)\u001b[0m\u001b[0;34m\u001b[0m\u001b[0;34m\u001b[0m\u001b[0m\n\u001b[0;32m--> 879\u001b[0;31m             \u001b[0;32mreturn\u001b[0m \u001b[0mself\u001b[0m\u001b[0;34m.\u001b[0m\u001b[0m_getitem_axis\u001b[0m\u001b[0;34m(\u001b[0m\u001b[0mmaybe_callable\u001b[0m\u001b[0;34m,\u001b[0m \u001b[0maxis\u001b[0m\u001b[0;34m=\u001b[0m\u001b[0maxis\u001b[0m\u001b[0;34m)\u001b[0m\u001b[0;34m\u001b[0m\u001b[0;34m\u001b[0m\u001b[0m\n\u001b[0m\u001b[1;32m    880\u001b[0m \u001b[0;34m\u001b[0m\u001b[0m\n\u001b[1;32m    881\u001b[0m     \u001b[0;32mdef\u001b[0m \u001b[0m_is_scalar_access\u001b[0m\u001b[0;34m(\u001b[0m\u001b[0mself\u001b[0m\u001b[0;34m,\u001b[0m \u001b[0mkey\u001b[0m\u001b[0;34m:\u001b[0m \u001b[0mTuple\u001b[0m\u001b[0;34m)\u001b[0m\u001b[0;34m:\u001b[0m\u001b[0;34m\u001b[0m\u001b[0;34m\u001b[0m\u001b[0m\n",
            "\u001b[0;32m/usr/local/lib/python3.7/dist-packages/pandas/core/indexing.py\u001b[0m in \u001b[0;36m_getitem_axis\u001b[0;34m(self, key, axis)\u001b[0m\n\u001b[1;32m   1097\u001b[0m                     \u001b[0;32mraise\u001b[0m \u001b[0mValueError\u001b[0m\u001b[0;34m(\u001b[0m\u001b[0;34m\"Cannot index with multidimensional key\"\u001b[0m\u001b[0;34m)\u001b[0m\u001b[0;34m\u001b[0m\u001b[0;34m\u001b[0m\u001b[0m\n\u001b[1;32m   1098\u001b[0m \u001b[0;34m\u001b[0m\u001b[0m\n\u001b[0;32m-> 1099\u001b[0;31m                 \u001b[0;32mreturn\u001b[0m \u001b[0mself\u001b[0m\u001b[0;34m.\u001b[0m\u001b[0m_getitem_iterable\u001b[0m\u001b[0;34m(\u001b[0m\u001b[0mkey\u001b[0m\u001b[0;34m,\u001b[0m \u001b[0maxis\u001b[0m\u001b[0;34m=\u001b[0m\u001b[0maxis\u001b[0m\u001b[0;34m)\u001b[0m\u001b[0;34m\u001b[0m\u001b[0;34m\u001b[0m\u001b[0m\n\u001b[0m\u001b[1;32m   1100\u001b[0m \u001b[0;34m\u001b[0m\u001b[0m\n\u001b[1;32m   1101\u001b[0m             \u001b[0;31m# nested tuple slicing\u001b[0m\u001b[0;34m\u001b[0m\u001b[0;34m\u001b[0m\u001b[0;34m\u001b[0m\u001b[0m\n",
            "\u001b[0;32m/usr/local/lib/python3.7/dist-packages/pandas/core/indexing.py\u001b[0m in \u001b[0;36m_getitem_iterable\u001b[0;34m(self, key, axis)\u001b[0m\n\u001b[1;32m   1035\u001b[0m \u001b[0;34m\u001b[0m\u001b[0m\n\u001b[1;32m   1036\u001b[0m         \u001b[0;31m# A collection of keys\u001b[0m\u001b[0;34m\u001b[0m\u001b[0;34m\u001b[0m\u001b[0;34m\u001b[0m\u001b[0m\n\u001b[0;32m-> 1037\u001b[0;31m         \u001b[0mkeyarr\u001b[0m\u001b[0;34m,\u001b[0m \u001b[0mindexer\u001b[0m \u001b[0;34m=\u001b[0m \u001b[0mself\u001b[0m\u001b[0;34m.\u001b[0m\u001b[0m_get_listlike_indexer\u001b[0m\u001b[0;34m(\u001b[0m\u001b[0mkey\u001b[0m\u001b[0;34m,\u001b[0m \u001b[0maxis\u001b[0m\u001b[0;34m,\u001b[0m \u001b[0mraise_missing\u001b[0m\u001b[0;34m=\u001b[0m\u001b[0;32mFalse\u001b[0m\u001b[0;34m)\u001b[0m\u001b[0;34m\u001b[0m\u001b[0;34m\u001b[0m\u001b[0m\n\u001b[0m\u001b[1;32m   1038\u001b[0m         return self.obj._reindex_with_indexers(\n\u001b[1;32m   1039\u001b[0m             \u001b[0;34m{\u001b[0m\u001b[0maxis\u001b[0m\u001b[0;34m:\u001b[0m \u001b[0;34m[\u001b[0m\u001b[0mkeyarr\u001b[0m\u001b[0;34m,\u001b[0m \u001b[0mindexer\u001b[0m\u001b[0;34m]\u001b[0m\u001b[0;34m}\u001b[0m\u001b[0;34m,\u001b[0m \u001b[0mcopy\u001b[0m\u001b[0;34m=\u001b[0m\u001b[0;32mTrue\u001b[0m\u001b[0;34m,\u001b[0m \u001b[0mallow_dups\u001b[0m\u001b[0;34m=\u001b[0m\u001b[0;32mTrue\u001b[0m\u001b[0;34m\u001b[0m\u001b[0;34m\u001b[0m\u001b[0m\n",
            "\u001b[0;32m/usr/local/lib/python3.7/dist-packages/pandas/core/indexing.py\u001b[0m in \u001b[0;36m_get_listlike_indexer\u001b[0;34m(self, key, axis, raise_missing)\u001b[0m\n\u001b[1;32m   1252\u001b[0m             \u001b[0mkeyarr\u001b[0m\u001b[0;34m,\u001b[0m \u001b[0mindexer\u001b[0m\u001b[0;34m,\u001b[0m \u001b[0mnew_indexer\u001b[0m \u001b[0;34m=\u001b[0m \u001b[0max\u001b[0m\u001b[0;34m.\u001b[0m\u001b[0m_reindex_non_unique\u001b[0m\u001b[0;34m(\u001b[0m\u001b[0mkeyarr\u001b[0m\u001b[0;34m)\u001b[0m\u001b[0;34m\u001b[0m\u001b[0;34m\u001b[0m\u001b[0m\n\u001b[1;32m   1253\u001b[0m \u001b[0;34m\u001b[0m\u001b[0m\n\u001b[0;32m-> 1254\u001b[0;31m         \u001b[0mself\u001b[0m\u001b[0;34m.\u001b[0m\u001b[0m_validate_read_indexer\u001b[0m\u001b[0;34m(\u001b[0m\u001b[0mkeyarr\u001b[0m\u001b[0;34m,\u001b[0m \u001b[0mindexer\u001b[0m\u001b[0;34m,\u001b[0m \u001b[0maxis\u001b[0m\u001b[0;34m,\u001b[0m \u001b[0mraise_missing\u001b[0m\u001b[0;34m=\u001b[0m\u001b[0mraise_missing\u001b[0m\u001b[0;34m)\u001b[0m\u001b[0;34m\u001b[0m\u001b[0;34m\u001b[0m\u001b[0m\n\u001b[0m\u001b[1;32m   1255\u001b[0m         \u001b[0;32mreturn\u001b[0m \u001b[0mkeyarr\u001b[0m\u001b[0;34m,\u001b[0m \u001b[0mindexer\u001b[0m\u001b[0;34m\u001b[0m\u001b[0;34m\u001b[0m\u001b[0m\n\u001b[1;32m   1256\u001b[0m \u001b[0;34m\u001b[0m\u001b[0m\n",
            "\u001b[0;32m/usr/local/lib/python3.7/dist-packages/pandas/core/indexing.py\u001b[0m in \u001b[0;36m_validate_read_indexer\u001b[0;34m(self, key, indexer, axis, raise_missing)\u001b[0m\n\u001b[1;32m   1314\u001b[0m                 \u001b[0;32mwith\u001b[0m \u001b[0moption_context\u001b[0m\u001b[0;34m(\u001b[0m\u001b[0;34m\"display.max_seq_items\"\u001b[0m\u001b[0;34m,\u001b[0m \u001b[0;36m10\u001b[0m\u001b[0;34m,\u001b[0m \u001b[0;34m\"display.width\"\u001b[0m\u001b[0;34m,\u001b[0m \u001b[0;36m80\u001b[0m\u001b[0;34m)\u001b[0m\u001b[0;34m:\u001b[0m\u001b[0;34m\u001b[0m\u001b[0;34m\u001b[0m\u001b[0m\n\u001b[1;32m   1315\u001b[0m                     raise KeyError(\n\u001b[0;32m-> 1316\u001b[0;31m                         \u001b[0;34m\"Passing list-likes to .loc or [] with any missing labels \"\u001b[0m\u001b[0;34m\u001b[0m\u001b[0;34m\u001b[0m\u001b[0m\n\u001b[0m\u001b[1;32m   1317\u001b[0m                         \u001b[0;34m\"is no longer supported. \"\u001b[0m\u001b[0;34m\u001b[0m\u001b[0;34m\u001b[0m\u001b[0m\n\u001b[1;32m   1318\u001b[0m                         \u001b[0;34mf\"The following labels were missing: {not_found}. \"\u001b[0m\u001b[0;34m\u001b[0m\u001b[0;34m\u001b[0m\u001b[0m\n",
            "\u001b[0;31mKeyError\u001b[0m: \"Passing list-likes to .loc or [] with any missing labels is no longer supported. The following labels were missing: Index([2020-09-07], dtype='object', name='Date'). See https://pandas.pydata.org/pandas-docs/stable/user_guide/indexing.html#deprecate-loc-reindex-listlike\""
          ]
        }
      ]
    },
    {
      "cell_type": "code",
      "metadata": {
        "id": "UVZIMYJHf1uB"
      },
      "source": [
        ""
      ],
      "execution_count": null,
      "outputs": []
    },
    {
      "cell_type": "code",
      "metadata": {
        "colab": {
          "base_uri": "https://localhost:8080/"
        },
        "id": "55923j21Dd6M",
        "outputId": "3b938934-cb31-4f31-add5-8a9760997ce1"
      },
      "source": [
        "# Make Holding dataframe\n",
        "holdingStocks = copy.deepcopy(orderStocks)\n",
        "holdingStocks = holdingStocks.cumsum()\n",
        "holdingStocks[\"Cash\"] = holdingStocks[\"Cash\"] + start_val\n",
        "\n",
        "# Make Values dataframe and Portfolio value dataframe\n",
        "valuesStocks = stockPrices * holdingStocks\n",
        "portVals = valuesStocks.sum(axis=1)\n",
        "print('print valueStocks')\n",
        "print(valuesStocks)\n",
        "print('print portfolio values')\n",
        "print(portVals)"
      ],
      "execution_count": null,
      "outputs": [
        {
          "output_type": "execute_result",
          "data": {
            "text/plain": [
              "array(['MSFT', 'BRK-B', 'GOOGL', 'NVDA', 'BA', 'NOBL', 'ABR', 'LULU',\n",
              "       'AMZN', 'ZS', 'TWLO', 'NFLX', 'DIS', 'VWO', 'MA', 'ABB', 'SBUX',\n",
              "       'WELL', 'CSCO', 'NLOK', 'SPY', 'AAPL', 'DIA', 'MAIN', 'TSLA',\n",
              "       'SDGR', 'TDOC', 'VMW', 'BABA', 'PLTR', 'ARKK', 'QQQ', 'TAN'],\n",
              "      dtype=object)"
            ]
          },
          "metadata": {
            "tags": []
          },
          "execution_count": 47
        }
      ]
    },
    {
      "cell_type": "code",
      "metadata": {
        "colab": {
          "base_uri": "https://localhost:8080/",
          "height": 450
        },
        "id": "D9dhI7xyCrpq",
        "outputId": "cef001c0-fd56-47e2-87ae-0409fdfc5099"
      },
      "source": [
        "orders_df"
      ],
      "execution_count": null,
      "outputs": [
        {
          "output_type": "execute_result",
          "data": {
            "text/html": [
              "<div>\n",
              "<style scoped>\n",
              "    .dataframe tbody tr th:only-of-type {\n",
              "        vertical-align: middle;\n",
              "    }\n",
              "\n",
              "    .dataframe tbody tr th {\n",
              "        vertical-align: top;\n",
              "    }\n",
              "\n",
              "    .dataframe thead th {\n",
              "        text-align: right;\n",
              "    }\n",
              "</style>\n",
              "<table border=\"1\" class=\"dataframe\">\n",
              "  <thead>\n",
              "    <tr style=\"text-align: right;\">\n",
              "      <th></th>\n",
              "      <th>Symbol</th>\n",
              "      <th>Order</th>\n",
              "      <th>Shares</th>\n",
              "      <th>Price</th>\n",
              "      <th>Change</th>\n",
              "      <th>Traded</th>\n",
              "      <th>Commission</th>\n",
              "    </tr>\n",
              "    <tr>\n",
              "      <th>Date</th>\n",
              "      <th></th>\n",
              "      <th></th>\n",
              "      <th></th>\n",
              "      <th></th>\n",
              "      <th></th>\n",
              "      <th></th>\n",
              "      <th></th>\n",
              "    </tr>\n",
              "  </thead>\n",
              "  <tbody>\n",
              "    <tr>\n",
              "      <th>2018-08-13</th>\n",
              "      <td>MSFT</td>\n",
              "      <td>1</td>\n",
              "      <td>35</td>\n",
              "      <td>108.9599</td>\n",
              "      <td>35</td>\n",
              "      <td>1</td>\n",
              "      <td>0</td>\n",
              "    </tr>\n",
              "    <tr>\n",
              "      <th>2018-09-27</th>\n",
              "      <td>MSFT</td>\n",
              "      <td>1</td>\n",
              "      <td>31</td>\n",
              "      <td>112.8000</td>\n",
              "      <td>31</td>\n",
              "      <td>1</td>\n",
              "      <td>0</td>\n",
              "    </tr>\n",
              "    <tr>\n",
              "      <th>2019-02-28</th>\n",
              "      <td>BRKB</td>\n",
              "      <td>1</td>\n",
              "      <td>1</td>\n",
              "      <td>204.6200</td>\n",
              "      <td>1</td>\n",
              "      <td>1</td>\n",
              "      <td>0</td>\n",
              "    </tr>\n",
              "    <tr>\n",
              "      <th>2019-02-28</th>\n",
              "      <td>BRKB</td>\n",
              "      <td>1</td>\n",
              "      <td>1</td>\n",
              "      <td>204.9487</td>\n",
              "      <td>1</td>\n",
              "      <td>1</td>\n",
              "      <td>0</td>\n",
              "    </tr>\n",
              "    <tr>\n",
              "      <th>2019-02-28</th>\n",
              "      <td>BRKB</td>\n",
              "      <td>1</td>\n",
              "      <td>3</td>\n",
              "      <td>204.6300</td>\n",
              "      <td>3</td>\n",
              "      <td>1</td>\n",
              "      <td>0</td>\n",
              "    </tr>\n",
              "    <tr>\n",
              "      <th>...</th>\n",
              "      <td>...</td>\n",
              "      <td>...</td>\n",
              "      <td>...</td>\n",
              "      <td>...</td>\n",
              "      <td>...</td>\n",
              "      <td>...</td>\n",
              "      <td>...</td>\n",
              "    </tr>\n",
              "    <tr>\n",
              "      <th>2021-03-11</th>\n",
              "      <td>TAN</td>\n",
              "      <td>1</td>\n",
              "      <td>20</td>\n",
              "      <td>91.2271</td>\n",
              "      <td>20</td>\n",
              "      <td>1</td>\n",
              "      <td>0</td>\n",
              "    </tr>\n",
              "    <tr>\n",
              "      <th>2021-03-11</th>\n",
              "      <td>TSLA</td>\n",
              "      <td>-1</td>\n",
              "      <td>6</td>\n",
              "      <td>633.0100</td>\n",
              "      <td>-6</td>\n",
              "      <td>1</td>\n",
              "      <td>0</td>\n",
              "    </tr>\n",
              "    <tr>\n",
              "      <th>2021-03-11</th>\n",
              "      <td>TAN</td>\n",
              "      <td>-1</td>\n",
              "      <td>20</td>\n",
              "      <td>91.2700</td>\n",
              "      <td>-20</td>\n",
              "      <td>1</td>\n",
              "      <td>0</td>\n",
              "    </tr>\n",
              "    <tr>\n",
              "      <th>2021-03-11</th>\n",
              "      <td>LULU</td>\n",
              "      <td>1</td>\n",
              "      <td>10</td>\n",
              "      <td>299.7500</td>\n",
              "      <td>10</td>\n",
              "      <td>1</td>\n",
              "      <td>0</td>\n",
              "    </tr>\n",
              "    <tr>\n",
              "      <th>2021-03-11</th>\n",
              "      <td>TDOC</td>\n",
              "      <td>-1</td>\n",
              "      <td>35</td>\n",
              "      <td>190.3940</td>\n",
              "      <td>-35</td>\n",
              "      <td>1</td>\n",
              "      <td>0</td>\n",
              "    </tr>\n",
              "  </tbody>\n",
              "</table>\n",
              "<p>140 rows × 7 columns</p>\n",
              "</div>"
            ],
            "text/plain": [
              "           Symbol  Order  Shares     Price  Change  Traded  Commission\n",
              "Date                                                                  \n",
              "2018-08-13   MSFT      1      35  108.9599      35       1           0\n",
              "2018-09-27   MSFT      1      31  112.8000      31       1           0\n",
              "2019-02-28   BRKB      1       1  204.6200       1       1           0\n",
              "2019-02-28   BRKB      1       1  204.9487       1       1           0\n",
              "2019-02-28   BRKB      1       3  204.6300       3       1           0\n",
              "...           ...    ...     ...       ...     ...     ...         ...\n",
              "2021-03-11    TAN      1      20   91.2271      20       1           0\n",
              "2021-03-11   TSLA     -1       6  633.0100      -6       1           0\n",
              "2021-03-11    TAN     -1      20   91.2700     -20       1           0\n",
              "2021-03-11   LULU      1      10  299.7500      10       1           0\n",
              "2021-03-11   TDOC     -1      35  190.3940     -35       1           0\n",
              "\n",
              "[140 rows x 7 columns]"
            ]
          },
          "metadata": {
            "tags": []
          },
          "execution_count": 40
        }
      ]
    },
    {
      "cell_type": "code",
      "metadata": {
        "id": "vup121xK8gvA"
      },
      "source": [
        "def compute_portvals(  \t\t  \t   \t\t     \t\t  \t\t  \t\t    \t \t\t \t\t   \t\t \t\t  \n",
        "    orders_file=\"./orders/orders.csv\",  \t\t  \t   \t\t     \t\t  \t\t  \t\t    \t \t\t \t\t   \t\t \t\t  \n",
        "    start_val=1000000,  \t\t  \t   \t\t     \t\t  \t\t  \t\t    \t \t\t \t\t   \t\t \t\t  \n",
        "    commission=9.95,  \t\t  \t   \t\t     \t\t  \t\t  \t\t    \t \t\t \t\t   \t\t \t\t  \n",
        "    impact=0.005,  \t\t  \t   \t\t     \t\t  \t\t  \t\t    \t \t\t \t\t   \t\t \t\t  \n",
        "):  \t\t  \t   \t\t     \t\t  \t\t  \t\t    \t \t\t \t\t   \t\t \t\t  \n",
        "    \"\"\"  \t\t  \t   \t\t     \t\t  \t\t  \t\t    \t \t\t \t\t   \t\t \t\t  \n",
        "    Computes the portfolio values.  \t\t  \t   \t\t     \t\t  \t\t  \t\t    \t \t\t \t\t   \t\t \t\t  \n",
        "  \t\t  \t   \t\t     \t\t  \t\t  \t\t    \t \t\t \t\t   \t\t \t\t  \n",
        "    :param orders_file: Path of the order file or the file object  \t\t  \t   \t\t     \t\t  \t\t  \t\t    \t \t\t \t\t   \t\t \t\t  \n",
        "    :type orders_file: str or file object  \t\t  \t   \t\t     \t\t  \t\t  \t\t    \t \t\t \t\t   \t\t \t\t  \n",
        "    :param start_val: The starting value of the portfolio  \t\t  \t   \t\t     \t\t  \t\t  \t\t    \t \t\t \t\t   \t\t \t\t  \n",
        "    :type start_val: int  \t\t  \t   \t\t     \t\t  \t\t  \t\t    \t \t\t \t\t   \t\t \t\t  \n",
        "    :param commission: The fixed amount in dollars charged for each transaction (both entry and exit)  \t\t  \t   \t\t     \t\t  \t\t  \t\t    \t \t\t \t\t   \t\t \t\t  \n",
        "    :param impact: The amount the price moves against the trader compared to the historical data at each transaction  \t\t  \t   \t\t     \t\t  \t\t  \t\t    \t \t\t \t\t   \t\t \t\t  \n",
        "    :type impact: float  \t\t  \t   \t\t     \t\t  \t\t  \t\t    \t \t\t \t\t   \t\t \t\t  \n",
        "    :return: the result (portvals) as a single-column dataframe, containing the value of the portfolio for each trading day in the first column from start_date to end_date, inclusive.  \t\t  \t   \t\t     \t\t  \t\t  \t\t    \t \t\t \t\t   \t\t \t\t  \n",
        "    :rtype: pandas.DataFrame  \t\t  \t   \t\t     \t\t  \t\t  \t\t    \t \t\t \t\t   \t\t \t\t  \n",
        "    \"\"\"  \t\t  \t   \t\t     \t\t  \t\t  \t\t    \t \t\t \t\t   \t\t \t\t  \n",
        "    # this is the function the autograder will call to test your code  \t\t  \t   \t\t     \t\t  \t\t  \t\t    \t \t\t \t\t   \t\t \t\t  \n",
        "    # NOTE: orders_file may be a string, or it may be a file object. Your  \t\t  \t   \t\t     \t\t  \t\t  \t\t    \t \t\t \t\t   \t\t \t\t  \n",
        "    # code should work correctly with either input  \t\t  \t   \t\t     \t\t  \t\t  \t\t    \t \t\t \t\t   \t\t \t\t  \n",
        "    # TODO: Your code here  \t\t  \t   \t\t     \t\t  \t\t  \t\t    \t \t\t \t\t   \t\t \t\t  \n",
        "    \n",
        "    # Read Orders file\n",
        "    orders_df = pd.read_csv(orders_file, index_col='Date', parse_dates=True, na_values=['nan'])  \n",
        "    orders_df = orders_df.replace({'Order': {'BUY': 1, 'SELL': -1}})\n",
        "    orders_df[\"Change\"] = orders_df[\"Order\"] * orders_df[\"Shares\"]\n",
        "    orders_df[\"Traded\"] = 1\n",
        "    orders_df[\"Commission\"] = commission\n",
        "    start_date = orders_df.index.min()\n",
        "    end_date = orders_df.index.max()\n",
        "    listPort = orders_df.Symbol.unique()\t\t  \t\t  \t\t    \t \t\t \t\t   \t\t \t\t  \t  \t   \t\t     \t\t \n",
        "\n",
        "    # Make Stock Price dataframe\n",
        "    stockPrices = get_data([\"SPY\"], pd.date_range(start_date, end_date))  \n",
        "\n",
        "    for symbol in listPort:\n",
        "        portvals = get_data([symbol], pd.date_range(start_date, end_date))    \t   \t\t     \t\t  \t\t  \t\t    \t \t\t \t\t   \t\t \t\t  \n",
        "        portvals = portvals[[symbol]]  # remove SPY\n",
        "        stockPrices = stockPrices.join(portvals)\n",
        "    \n",
        "    stockPrices = stockPrices.drop(columns=['SPY'])\n",
        "    stockPrices = stockPrices.fillna(method='ffill')\n",
        "    stockPrices[\"Cash\"] = 1\n",
        "    \n",
        "    # Make Orders dataframe\n",
        "    orderStocks = copy.deepcopy(stockPrices)\n",
        "    orderStocks = orderStocks.replace(orderStocks, 0)\n",
        "    orderStocks[\"Cash\"] = 0\n",
        "    for symbol in listPort:\n",
        "        orders = orders_df[orders_df.Symbol == symbol]\n",
        "        orders = orders.sort_index()\n",
        "        orders = orders.rename({\"Change\": symbol}, axis='columns')\n",
        "        orders = orders.drop(['Symbol', 'Order', 'Shares'], axis=1)\n",
        "\n",
        "        dates = orders.index.date\n",
        "        orders[\"Traded\"] = -orders[symbol] * stockPrices.loc[dates, symbol]\n",
        "        orders[\"Impact\"] = abs(orders[\"Traded\"]) * impact\n",
        "\n",
        "        orders = orders.groupby(by=\"Date\").sum()\n",
        "        orderStocks.loc[dates, symbol] = orders[symbol]\n",
        "        orderStocks.loc[dates, \"Cash\"] += orders[\"Traded\"] - orders[\"Commission\"] - orders[\"Impact\"]\n",
        "\n",
        "    # Make Holding dataframe\n",
        "    holdingStocks = copy.deepcopy(orderStocks)\n",
        "    holdingStocks = holdingStocks.cumsum()\n",
        "    holdingStocks[\"Cash\"] = holdingStocks[\"Cash\"] + start_val\n",
        "\n",
        "    # Make Values dataframe and Portfolio value dataframe\n",
        "    valuesStocks = stockPrices * holdingStocks\n",
        "    portVals = valuesStocks.sum(axis=1)\n",
        "    print('print valueStocks')\n",
        "    print(valuesStocks)\n",
        "    print('print portfolio values')\n",
        "    print(portVals)\n",
        "    return portVals  "
      ],
      "execution_count": null,
      "outputs": []
    },
    {
      "cell_type": "code",
      "metadata": {
        "id": "7xekFLuiBWvC"
      },
      "source": [
        ""
      ],
      "execution_count": null,
      "outputs": []
    }
  ]
}